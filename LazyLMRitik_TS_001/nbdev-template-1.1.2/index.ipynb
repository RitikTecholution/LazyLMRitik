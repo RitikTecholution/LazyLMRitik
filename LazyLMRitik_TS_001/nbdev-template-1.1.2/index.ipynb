{
    "cells": [
        {
            "cell_type": "markdown",
            "metadata": {},
            "source": [
                "# Project name here\n",
                "\n",
                "> Summary description here."
            ]
        },
        {
            "cell_type": "code",
            "execution_count": null,
            "metadata": {},
            "outputs": [],
            "source": [
                "#| hide\n",
                "from your_lib.core import *"
            ]
        },
        {
            "cell_type": "markdown",
            "metadata": {},
            "source": [
                "This file will become your README and also the index of your documentation."
            ]
        },
        {
            "cell_type": "markdown",
            "metadata": {},
            "source": [
                "## Install"
            ]
        },
        {
            "cell_type": "markdown",
            "metadata": {},
            "source": [
                "