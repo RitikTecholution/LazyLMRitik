{
 "cells": [
  {
   "cell_type": "code",
   "execution_count": 1,
   "metadata": {},
   "outputs": [],
   "source": [
    "#| hide\n",
    "from lazy_lm.core import *"
   ]
  },
  {
   "cell_type": "markdown",
   "metadata": {},
   "source": [
    "# LazyLM\n",
    "\n",
    "> A prompting framework for getting foundational models to \"lazily\" evaluate their reasoning trace."
   ]
  },
  {
   "cell_type": "markdown",
   "metadata": {},
   "source": [
    "## Introduction\n",
    "In the rapidly evolving landscape of artificial intelligence, large language models (LLMs) have emerged as powerful tools for a wide range of applications, from content creation to complex problem-solving. We've seen widespread adoption of language models as \"assistants\" in various domains, such as healthcare, education, and content creation. However, in educational contexts, these models often fall short of providing an optimal learning experience. They tend to generate complete solutions upfront, robbing students of the opportunity to engage in the step-by-step reasoning process that is crucial for deep understanding.\n",
    "\n",
    "This raises an important question: \n",
    "\n",
    "> Can we get these systems to evaluate in a 'Socratic' way?\n",
    "\n",
    "In other words, can we develop systems that encourage students to *think* step-by-step, rather than generating complete solutions upfront?\n",
    "\n",
    "While there has been significant work on making LLMs reason step-by-step (e.g., chain-of-thought prompting), to our knowledge, there isn't an existing framework to build systems that allow users to think through problems step-by-step while having the LLM assist in a pedagogical way. This is where the concept of \"lazy evaluation\" in language models comes into play, offering a more Socratic approach to AI-assisted tasks.\n",
    "\n",
    "This work demonstrates an approach to building a framework for forcing models to evaluate in a lazy way, drawing inspiration from functional programming concepts.\n",
    "\n",
    "\n",
    "## Motivation\n",
    "\n",
    "The motivation behind implementing lazy evaluation in language models stems from several key observations:\n",
    "\n",
    "- **Pedagogical Effectiveness**: Traditional tutoring methods often involve guiding students through problems step-by-step, allowing them to think critically and make connections on their own. AI tutors should aim to replicate this approach rather than simply providing answers.\n",
    "\n",
    "- **Resource Efficiency**: Generating complete solutions upfront is computationally expensive, especially for complex problems. A lazy evaluation approach can significantly reduce resource usage by generating only the necessary information on demand.\n",
    "\n",
    "- **Adaptability**: Students have varying levels of understanding and may require different amounts of guidance. A lazy evaluation system can adapt to each student's needs, providing more or less detail as required.\n",
    "\n",
    "- **Engagement**: By revealing information gradually, we can maintain student engagement and encourage active participation in the problem-solving process.\n",
    "\n",
    "- **Real-world Problem Solving**: In many real-world scenarios, solutions are not immediately apparent and must be approached incrementally. Training students to think in this way prepares them for challenges beyond the classroom.\n"
   ]
  },
  {
   "cell_type": "markdown",
   "metadata": {},
   "source": [
    "Installing LazyLM\n",
    "\n",
    "`pip install lazy_lm`"
   ]
  },
  {
   "cell_type": "markdown",
   "metadata": {},
   "source": [
    "Using LazyLM"
   ]
  },
  {
   "cell_type": "code",
   "execution_count": 1,
   "metadata": {},
   "outputs": [],
   "source": [
    "from dotenv import load_dotenv\n",
    "import os\n",
    "from anthropic import AnthropicVertex\n",
    "from lazy_lm.core import lazy\n",
    "\n",
    "load_dotenv()\n",
    "project_id = os.getenv(\"PROJECT_ID\")\n",
    "location = os.getenv(\"PROJECT_LOCATION\")\n"
   ]
  },
  {
   "cell_type": "code",
   "execution_count": 8,
   "metadata": {},
   "outputs": [],
   "source": [
    "# Initalize the Anthropic client\n",
    "client = AnthropicVertex(project_id=project_id, region=location)\n",
    "lazy_lm = client.lazy(\"What is the derivative of `2x^3 + x^2 + 2x + 1`? Give me the solution step-by-step\")"
   ]
  },
  {
   "cell_type": "code",
   "execution_count": 9,
   "metadata": {},
   "outputs": [
    {
     "name": "stdout",
     "output_type": "stream",
     "text": [
      "What is the derivative of `2x^3 + x^2 + 2x + 1`? Give me the solution step-by-step\n"
     ]
    }
   ],
   "source": [
    "# Get the current step\n",
    "print(lazy_lm.get_current_step())"
   ]
  },
  {
   "cell_type": "code",
   "execution_count": 10,
   "metadata": {},
   "outputs": [
    {
     "name": "stdout",
     "output_type": "stream",
     "text": [
      "To find the derivative of the given function, we'll use the power rule and the constant rule of differentiation. Let's start with the first term:\n",
      "\n",
      "Step 1: Find the derivative of 2x^3\n",
      "\n",
      "The power rule states that for a term ax^n, the derivative is nax^(n-1).\n",
      "For 2x^3, we have:\n",
      "a = 2, n = 3\n",
      "So, the derivative of 2x^\n"
     ]
    }
   ],
   "source": [
    "# Get the next step\n",
    "print(lazy_lm.get_next_step())"
   ]
  },
  {
   "cell_type": "code",
   "execution_count": 11,
   "metadata": {},
   "outputs": [
    {
     "name": "stdout",
     "output_type": "stream",
     "text": [
      "I apologize for any confusion. I'd be happy to explain this step in more detail without advancing to the next step.\n",
      "\n",
      "In this step, we're focusing on finding the derivative of the first term in the given expression, which is 2x^3.\n",
      "\n",
      "To do this, we're using the power rule of differentiation. The power rule states that for a term in the form ax^n (where 'a' is a constant and 'n' is the power\n"
     ]
    }
   ],
   "source": [
    "# Query the current step\n",
    "print(lazy_lm.ask_question(\"I don't understand this step\"))"
   ]
  },
  {
   "cell_type": "code",
   "execution_count": 12,
   "metadata": {},
   "outputs": [
    {
     "name": "stdout",
     "output_type": "stream",
     "text": [
      "Step 2: Complete the derivative of 2x^3\n",
      "\n",
      "Continuing from the previous step, we apply the power rule to 2x^3:\n",
      "\n",
      "The derivative of 2x^3 is:\n",
      "3 · 2x^(3-1) = 3 · 2x^2 = 6x^2\n"
     ]
    }
   ],
   "source": [
    "# Get the next step\n",
    "print(lazy_lm.get_next_step())"
   ]
  },
  {
   "cell_type": "markdown",
   "metadata": {},
   "source": [
    "## Understanding Lazy Evaluation\n",
    "\n",
    "### A Note on Lazy Evaluation in Programming\n",
    "\n",
    "The concept of lazy evaluation is well-established in functional programming languages, where the evaluation of an expression is only done when the value of the expression is needed. This is also known as call-by-need. The contrast to this evaluation strategy is what's called \"eager\" or strict evaluation.\n",
    "\n",
    "The concept of lazy evaluation is well-established in functional programming languages, where the evaluation of an expression is only done when the value (or terminial) of the expression is needed. This is also known as call-by-need. The contrast of this evaluation strategy is what's called \"eager\" evaluation or strict evaluation. Eager evaluation evaluates all of the subexpressions of an expression regardless whether the value is used or not. For example the expression:\n",
    "\n",
    "```haskell\n",
    "func :: int -> int -> int\n",
    "func a b = a\n",
    "```\n",
    "\n",
    "will always just pass back the first argument to the function\n",
    "\n",
    "```haskell\n",
    ">> func (2+2) 100\n",
    "4\n",
    "```\n",
    "We get `4` because we are passing back that expression as part of the function, therefore we need to evaluate it to print it to the screen.\n",
    "\n",
    "However, what about this\n",
    "\n",
    "```haskell\n",
    ">>> func (2 + 2) (100^1000000)\n",
    "```\n",
    "\n",
    "In an eager (or strict) language like python, the evaluation of that function would look something like this\n",
    "\n",
    "```\n",
    "func((2+2), (100^1000000))\n",
    "\n",
    "func( 4, (100^1000000) )\n",
    "\n",
    "func( 4, 10000000000000000000000000000.....)\n",
    "\n",
    "4\n",
    "```\n",
    "\n",
    "That is a lot of wasted computation just for a function that returns the first argument!\n",
    "\n",
    "Programming languages that support lazy evaluation have an evaluation strategy that looks more like this:\n",
    "\n",
    "```\n",
    "func((2+2), (100^1000000))\n",
    "\n",
    "(2 + 2)\n",
    "\n",
    "4\n",
    "```\n",
    "\n",
    "Our language \"knows\" that we don't need the second argument, so why bother evaluating it?\n",
    "\n",
    "\n",
    "\n",
    "\n",
    "### Lazy Evaluation in the Context of Language Models\n",
    "\n",
    "Language models are inherently eager: given a prompt, they will continue to generate tokens until reaching an end-of-sequence token. However, this behavior is not always desirable, especially in educational contexts. For example, given a prompt such as:\n",
    "\n",
    "\n",
    "\"What is the derivative of `2x^3 + x^2 + 2x + 1`? Give me the solution step-by-step\"\n",
    "\n",
    "\n",
    "A language model will generate the entire sequence of steps in one go. Something like this:\n",
    "\n",
    "```\n",
    "Given function: f(x) = 2x^3 + x^2 + 2x + 1\n",
    "\n",
    "Step 1: Differentiate each term separately using the power rule and constant rule.\n",
    "The power rule states that the derivative of x^n is nx^(n-1).\n",
    "The constant rule states that the derivative of a constant is 0.\n",
    "\n",
    "a) Differentiate 2x^3:\n",
    "    d/dx(2x^3) = 2 * 3x^(3-1) = 6x^2\n",
    "b) Differentiate x^2:\n",
    "    d/dx(x^2) = 2x^(2-1) = 2x\n",
    "c) Differentiate 2x:\n",
    "    d/dx(2x) = 2\n",
    "d) Differentiate 1:\n",
    "    d/dx(1) = 0\n",
    "\n",
    "Step 2: Combine the results from each term.\n",
    "f'(x) = 6x^2 + 2x + 2 + 0\n",
    "\n",
    "Step 3: Simplify the expression.\n",
    "f'(x) = 6x^2 + 2x + 2\n",
    "\n",
    "Therefore, the derivative of 2x^3 + x^2 + 2x + 1 is 6x^2 + 2x + 2.\n",
    "```\n",
    "\n",
    "In the context of creating an application that can assist students with learning this content, a full trace will likely be suboptimal in facilitating a productive learning enviornment.\n",
    "\n",
    "More abstractly, we can frame the problems as a problem initalization, a sequence of steps, and the final solution.\n",
    "\n",
    "`sp_1 -> sp_2 -> sp_3 -> ... -> sp_n, where sp_i is the sub problem at step i for problem p`\n",
    "\n",
    "With some light definition in place we can frame the desired evaluation strategy like this:\n",
    "\n",
    "`past(sp_1) -> curr(sp_2) -> future(sp_3 -> ... -> sp_n)`\n",
    "\n",
    "where `past` are the steps that have already been evaluated, `curr` is the current step that has been evaluated, and `future` are all of the future steps to be evaluated.\n",
    "\n",
    "To a language model, this is all just token sequences. \n",
    "\n",
    "```\n",
    "TokenSequence_1 -> TokenSequence_2 -> TokenSequence_3 -> ... -> TokenSequence_n`\n",
    "|     sp_1    |    |     sp_2    |    |     sp_3    |    ...    |     sp_n    |\n",
    "\n",
    "```\n",
    "\n",
    "Leveraging a model's KV cache for memoizing the compute done on `TokenSequence`s that have already been computed we can frame our evaluation strategy to look much more \"lazy\". \n",
    "\n",
    "`memoized(TokenSequence_1 -> TokenSequence_2) -> TokenSequence_3 -> future(TokenSequence_4 -> ... -> TokenSequence_n) `\n",
    "\n",
    "\n",
    "where we can get roughly the desired evaluation strategy having the LLM compute the next sequence it samples as a sub problem and nothing more."
   ]
  },
  {
   "cell_type": "code",
   "execution_count": null,
   "metadata": {},
   "outputs": [],
   "source": []
  },
  {
   "cell_type": "code",
   "execution_count": null,
   "metadata": {},
   "outputs": [],
   "source": []
  },
  {
   "cell_type": "code",
   "execution_count": null,
   "metadata": {},
   "outputs": [],
   "source": []
  }
 ],
 "metadata": {
  "kernelspec": {
   "display_name": "dev",
   "language": "python",
   "name": "python3"
  },
  "language_info": {
   "codemirror_mode": {
    "name": "ipython",
    "version": 3
   },
   "file_extension": ".py",
   "mimetype": "text/x-python",
   "name": "python",
   "nbconvert_exporter": "python",
   "pygments_lexer": "ipython3",
   "version": "3.10.14"
  }
 },
 "nbformat": 4,
 "nbformat_minor": 2
}
